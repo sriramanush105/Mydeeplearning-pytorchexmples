{
  "nbformat": 4,
  "nbformat_minor": 0,
  "metadata": {
    "colab": {
      "name": "Untitled20.ipynb",
      "provenance": [],
      "collapsed_sections": []
    },
    "kernelspec": {
      "name": "python3",
      "display_name": "Python 3"
    },
    "language_info": {
      "name": "python"
    },
    "accelerator": "GPU"
  },
  "cells": [
    {
      "cell_type": "code",
      "metadata": {
        "id": "vGJ1Jh7WS9g7"
      },
      "source": [
        "#importing packages\n",
        "import torch\n",
        "import torch.nn as nn\n",
        "from torch.utils.data import Dataset\n",
        "import  torchvision \n",
        "import torchvision.transforms as transforms\n",
        "import numpy as np\n",
        "import pandas as pd\n"
      ],
      "execution_count": 7,
      "outputs": []
    },
    {
      "cell_type": "code",
      "metadata": {
        "colab": {
          "base_uri": "https://localhost:8080/"
        },
        "id": "B1BA0BxCTYHF",
        "outputId": "443bec50-1c95-4418-a35b-a713fac27825"
      },
      "source": [
        "#configuring device\n",
        "device='cuda' if torch.cuda.is_available() else 'cpu'\n",
        "print(device)"
      ],
      "execution_count": 8,
      "outputs": [
        {
          "output_type": "stream",
          "text": [
            "cpu\n"
          ],
          "name": "stdout"
        }
      ]
    },
    {
      "cell_type": "code",
      "metadata": {
        "id": "97QNepSpTLgT"
      },
      "source": [
        "#define hyperparameters\n",
        "num_epochs=2\n",
        "batch_size=100\n",
        "input_size=28\n",
        "seq_length=28\n",
        "num_layers=2\n",
        "hidden_size=150\n",
        "output_size=10\n",
        "learning_rate=0.001\n"
      ],
      "execution_count": 35,
      "outputs": []
    },
    {
      "cell_type": "code",
      "metadata": {
        "id": "lzGpH0IWTgAS"
      },
      "source": [
        "#loading data\n",
        "train_dataset=torchvision.datasets.MNIST(root=\"./data/\",train=True,transform=transforms.ToTensor(),download=True)\n",
        "train_loader=torch.utils.data.DataLoader(dataset=train_dataset,batch_size=batch_size,shuffle=True)\n",
        "test_dataset=torchvision.datasets.MNIST(root=\"./data/\",train=False,transform=transforms.ToTensor(),download=True)\n",
        "test_loader=torch.utils.data.DataLoader(dataset=test_dataset,batch_size=batch_size,shuffle=True)"
      ],
      "execution_count": 36,
      "outputs": []
    },
    {
      "cell_type": "code",
      "metadata": {
        "id": "V_Oy4HfSUl1I"
      },
      "source": [
        "#defining network\n",
        "class MyRNN(nn.Module):\n",
        "  def __init__(self,input_size,hidden_size,num_layers,output_size):\n",
        "    super(MyRNN,self).__init__()\n",
        "    self.hidden_size=hidden_size\n",
        "    self.num_layers=num_layers\n",
        "    \n",
        "    self.gru=nn.GRU(input_size,hidden_size,num_layers,batch_first=True)\n",
        "    self.fc=nn.Linear(hidden_size,output_size)\n",
        "  def forward(self,x):\n",
        "    h0=torch.zeros(self.num_layers,x.size(0),self.hidden_size).to(device)\n",
        "    out,_=self.gru(x,h0)  \n",
        "    out=out[:,-1,:]\n",
        "    out=self.fc(out)\n",
        "    return out\n",
        "\n",
        "model=MyRNN(input_size,hidden_size,num_layers,output_size).to(device)\n"
      ],
      "execution_count": 40,
      "outputs": []
    },
    {
      "cell_type": "code",
      "metadata": {
        "id": "QT4VKDHj6KyP"
      },
      "source": [
        "#define loss func and optim\n",
        "criterion=nn.CrossEntropyLoss()\n",
        "optim=torch.optim.Adam(params=model.parameters(),lr=learning_rate)"
      ],
      "execution_count": 41,
      "outputs": []
    },
    {
      "cell_type": "code",
      "metadata": {
        "colab": {
          "base_uri": "https://localhost:8080/"
        },
        "id": "yUSoBY546g1k",
        "outputId": "caa8d481-adc1-4a9d-c0b6-bd581b4751b9"
      },
      "source": [
        "#training\n",
        "lossgraph=[]\n",
        "for epoch in range(num_epochs):\n",
        "  for i ,(images,labels) in enumerate(train_loader):\n",
        "    images=images.reshape(-1,seq_length,input_size).to(device)\n",
        "    labels=labels.to(device)\n",
        "    pred=model(images)\n",
        "    loss=criterion(pred,labels)\n",
        "    optim.zero_grad()\n",
        "    loss.backward()\n",
        "    optim.step()\n",
        "    lossgraph.append(loss.item())\n",
        "    if i%100==0:\n",
        "      print(\"epoch:[{}/{}] loss :[{}]\".format(epoch,num_epochs,loss.item()))\n",
        "print(\"training completed\")      \n"
      ],
      "execution_count": 42,
      "outputs": [
        {
          "output_type": "stream",
          "text": [
            "epoch:[0/2] loss :[2.2997586727142334]\n",
            "epoch:[0/2] loss :[0.7142075896263123]\n",
            "epoch:[0/2] loss :[0.29441651701927185]\n",
            "epoch:[0/2] loss :[0.24066020548343658]\n",
            "epoch:[0/2] loss :[0.20029614865779877]\n",
            "epoch:[0/2] loss :[0.09322258830070496]\n",
            "epoch:[1/2] loss :[0.1009615957736969]\n",
            "epoch:[1/2] loss :[0.0220795888453722]\n",
            "epoch:[1/2] loss :[0.11473213136196136]\n",
            "epoch:[1/2] loss :[0.06377275288105011]\n",
            "epoch:[1/2] loss :[0.11840102821588516]\n",
            "epoch:[1/2] loss :[0.06806498020887375]\n",
            "training completed\n"
          ],
          "name": "stdout"
        }
      ]
    },
    {
      "cell_type": "code",
      "metadata": {
        "colab": {
          "base_uri": "https://localhost:8080/"
        },
        "id": "XiNx48C58DNX",
        "outputId": "7690a5af-b6af-4993-b977-f54f194943bb"
      },
      "source": [
        "#testing \n",
        "model.eval()\n",
        "accuracy=[]\n",
        "with torch.no_grad():\n",
        "  correct=0\n",
        "  total=0\n",
        "  for i,(images,labels) in enumerate(test_loader):\n",
        "    images=images.reshape(-1,seq_length,input_size).to(device)\n",
        "    labels=labels.to(device)\n",
        "    outputs=model(images)\n",
        "    _,pred=torch.max(outputs.data,1)\n",
        "    total+=labels.size(0)\n",
        "    l=(pred==labels).sum().item()\n",
        "    correct+=l\n",
        "    accuracy.append(l/batch_size)\n",
        "  print(\"test accracy is {}\".format(correct/total*100))  \n"
      ],
      "execution_count": 47,
      "outputs": [
        {
          "output_type": "stream",
          "text": [
            "test accracy is 97.61999999999999\n"
          ],
          "name": "stdout"
        }
      ]
    },
    {
      "cell_type": "code",
      "metadata": {
        "colab": {
          "base_uri": "https://localhost:8080/",
          "height": 265
        },
        "id": "l76-VKbV_UPx",
        "outputId": "c04e3854-0741-48bb-9a66-0e8e88537c2b"
      },
      "source": [
        "import matplotlib.pyplot as plt\n",
        "plt.plot(lossgraph)\n",
        "plt.show()"
      ],
      "execution_count": 44,
      "outputs": [
        {
          "output_type": "display_data",
          "data": {
            "image/png": "[encoded data removed]",
            "text/plain": [
              "<Figure size 432x288 with 1 Axes>"
            ]
          },
          "metadata": {
            "tags": [],
            "needs_background": "light"
          }
        }
      ]
    },
    {
      "cell_type": "code",
      "metadata": {
        "colab": {
          "base_uri": "https://localhost:8080/",
          "height": 265
        },
        "id": "qHdOidZoBEJw",
        "outputId": "1abf1586-d7b5-413b-afd9-2f7895a568bd"
      },
      "source": [
        "plt.plot(accuracy)\n",
        "plt.show()"
      ],
      "execution_count": 48,
      "outputs": [
        {
          "output_type": "display_data",
          "data": {
            "image/png": "[encoded data removed]",
            "text/plain": [
              "<Figure size 432x288 with 1 Axes>"
            ]
          },
          "metadata": {
            "tags": [],
            "needs_background": "light"
          }
        }
      ]
    }
  ]
}